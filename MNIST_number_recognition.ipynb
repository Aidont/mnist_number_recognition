{
  "nbformat": 4,
  "nbformat_minor": 0,
  "metadata": {
    "colab": {
      "provenance": [],
      "gpuType": "T4"
    },
    "kernelspec": {
      "name": "python3",
      "display_name": "Python 3"
    },
    "language_info": {
      "name": "python"
    },
    "accelerator": "GPU"
  },
  "cells": [
    {
      "cell_type": "code",
      "execution_count": 1,
      "metadata": {
        "id": "gS0n_nA7hEx0"
      },
      "outputs": [],
      "source": [
        "import torch\n",
        "import pandas as pd\n",
        "import matplotlib.pyplot as plt\n",
        "from torch.utils.data import TensorDataset, DataLoader\n",
        "\n"
      ]
    },
    {
      "cell_type": "markdown",
      "source": [
        "The next part only works if you have a training csv file stored in a folder MNIST in your drive."
      ],
      "metadata": {
        "id": "fTcC2Icuatgc"
      }
    },
    {
      "cell_type": "code",
      "source": [
        "data = pd.read_csv('drive/MyDrive/MNIST/mnist_train.csv')"
      ],
      "metadata": {
        "id": "4VWC18ldiDKy"
      },
      "execution_count": 2,
      "outputs": []
    },
    {
      "cell_type": "code",
      "source": [
        "data = torch.tensor(data.values, dtype=torch.float32)"
      ],
      "metadata": {
        "id": "YpxDnzlplH1I"
      },
      "execution_count": 3,
      "outputs": []
    },
    {
      "cell_type": "code",
      "source": [
        "Y_training = data[:,0]\n",
        "X_training = data[:,1:]/255"
      ],
      "metadata": {
        "id": "fwgb5nIa0AwC"
      },
      "execution_count": 4,
      "outputs": []
    },
    {
      "cell_type": "code",
      "source": [
        "device = torch.device(\"cuda\" if torch.cuda.is_available() else \"cpu\")"
      ],
      "metadata": {
        "id": "gG8vzQoeNvuY"
      },
      "execution_count": 5,
      "outputs": []
    },
    {
      "cell_type": "code",
      "source": [
        "dataset = TensorDataset(X_training, Y_training)\n",
        "training_sets = DataLoader(dataset, 64, True)"
      ],
      "metadata": {
        "id": "I6TTsBjy4aX-"
      },
      "execution_count": 15,
      "outputs": []
    },
    {
      "cell_type": "code",
      "source": [
        "m, n = X_training.size()"
      ],
      "metadata": {
        "id": "OYpuzYejshw7"
      },
      "execution_count": 7,
      "outputs": []
    },
    {
      "cell_type": "code",
      "source": [
        "def make_param(*shape):\n",
        "  return torch.normal(0.01, 0.03, size=shape, device = device, requires_grad = True)"
      ],
      "metadata": {
        "id": "hDSTE9On4IP8"
      },
      "execution_count": 152,
      "outputs": []
    },
    {
      "cell_type": "code",
      "source": [
        "lr = 0.01"
      ],
      "metadata": {
        "id": "ahrJzehS7VUi"
      },
      "execution_count": 149,
      "outputs": []
    },
    {
      "cell_type": "code",
      "source": [
        "hidden1 = 20\n",
        "hidden2 = 20\n",
        "\n",
        "\n",
        "w1 = make_param(n, hidden1)\n",
        "w2 = make_param(hidden1, hidden2)\n",
        "w3 = make_param(hidden2, 10)\n",
        "\n",
        "b1 = make_param(hidden1, )\n",
        "b2 = make_param(hidden2, )\n",
        "b3 = make_param(10, )"
      ],
      "metadata": {
        "id": "cPKu7hx83CLY"
      },
      "execution_count": 153,
      "outputs": []
    },
    {
      "cell_type": "code",
      "source": [
        "def model(x):\n",
        "  l1 = x@w1 +b1\n",
        "  l1 = torch.relu(l1)\n",
        "  l2 = l1@w2 + b2\n",
        "  l2 = torch.relu(l2)\n",
        "  l3 = l2@w3 + b3\n",
        "  return l3"
      ],
      "metadata": {
        "id": "l9RtftVY5BsV"
      },
      "execution_count": 154,
      "outputs": []
    },
    {
      "cell_type": "code",
      "source": [
        "loss = torch.nn.CrossEntropyLoss()"
      ],
      "metadata": {
        "id": "NTv23_jU4fpq"
      },
      "execution_count": 118,
      "outputs": []
    },
    {
      "cell_type": "code",
      "source": [
        "def update():\n",
        "  global w1, w2, w3, b1, b2, b3\n",
        "\n",
        "  with torch.no_grad():\n",
        "    w1 -= lr*w1.grad\n",
        "    w2 -= lr*w2.grad\n",
        "    w3 -= lr*w3.grad\n",
        "    b1 -= lr*b1.grad\n",
        "    b2 -= lr*b2.grad\n",
        "    b3 -= lr*b3.grad\n",
        "\n",
        "  w1.grad.zero_()\n",
        "  w2.grad.zero_()\n",
        "  w3.grad.zero_()\n",
        "  b1.grad.zero_()\n",
        "  b2.grad.zero_()\n",
        "  b3.grad.zero_()"
      ],
      "metadata": {
        "id": "CxEtj3XW40l4"
      },
      "execution_count": 155,
      "outputs": []
    },
    {
      "cell_type": "code",
      "source": [
        "for i in range(10):\n",
        "  for img_data, label in training_sets:\n",
        "    img_data = img_data.to(device)\n",
        "    label = label.to(device)\n",
        "\n",
        "    logits = model(img_data)\n",
        "    l = loss(logits, label.long())\n",
        "    l.backward()\n",
        "    update()",
        "\n",
        "  print(l.item())"
      ],
      "metadata": {
        "colab": {
          "base_uri": "https://localhost:8080/",
          "height": 211
        },
        "id": "I7ehbWqT5WkN",
        "outputId": "ee853e6b-8212-43ad-b8a2-3abea6616d88"
      },
      "execution_count": 3,
      "outputs": []
    },
      
    {
      "cell_type": "code",
      "source": [
        "test_data = pd.read_csv('drive/MyDrive/MNIST/mnist_test.csv')"
      ],
      "metadata": {
        "id": "PQ7ZzpDQ8Bxr"
      },
      "execution_count": 159,
      "outputs": []
    },
    {
      "cell_type": "code",
      "source": [
        "test_data = torch.tensor(test_data.values, dtype=torch.float32)"
      ],
      "metadata": {
        "id": "W_vVPenw8Pm0"
      },
      "execution_count": 160,
      "outputs": []
    },
    {
      "cell_type": "code",
      "source": [
        "Y_test = test_data[:, 0]\n",
        "X_test = test_data[:, 1:]/255"
      ],
      "metadata": {
        "id": "H5blKq258bUE"
      },
      "execution_count": 161,
      "outputs": []
    },
    {
      "cell_type": "code",
      "source": [
        "X_test.size()"
      ],
      "metadata": {
        "colab": {
          "base_uri": "https://localhost:8080/"
        },
        "id": "AWAzJF4m9xQC",
        "outputId": "6d66de23-dc38-4046-eda6-45cbaac287ea"
      },
      "execution_count": 162,
      "outputs": [
        {
          "output_type": "execute_result",
          "data": {
            "text/plain": [
              "torch.Size([10000, 784])"
            ]
          },
          "metadata": {},
          "execution_count": 162
        }
      ]
    },
    {
      "cell_type": "code",
      "source": [
        "test_data = TensorDataset(X_test, Y_test)\n",
        "test_sets = DataLoader(test_data, 64, False)"
      ],
      "metadata": {
        "id": "zB4rgo8B8wYe"
      },
      "execution_count": 163,
      "outputs": []
    },
    {
      "cell_type": "code",
      "source": [
        "correct = 0\n",
        "total = 0\n",
        "for img_data, label in test_sets:\n",
        "  img_data = img_data.to(device)\n",
        "  label = label.to(device)\n",
        "  pred = torch.argmax(model(img_data), dim = 1)\n",
        "  correct += (pred==label).sum().item()\n",
        "\n",
        "  total += label.size(0)\n",
        "\n",
        "print((correct/total)*100)\n",
        "print(total, correct)"
      ],
      "metadata": {
        "colab": {
          "base_uri": "https://localhost:8080/"
        },
        "id": "1ee88nOi9IQw",
        "outputId": "b3a435c4-58c2-4ec0-bcc9-8cc5d3bac3ab"
      },
      "execution_count": 192,
      "outputs": [
        {
          "output_type": "stream",
          "name": "stdout",
          "text": [
            "92.9\n",
            "10000 9290\n"
          ]
        }
      ]
    },
    {
      "cell_type": "code",
      "source": [],
      "metadata": {
        "id": "ffic5Dt0_5fJ"
      },
      "execution_count": 104,
      "outputs": []
    }
  ]
}
